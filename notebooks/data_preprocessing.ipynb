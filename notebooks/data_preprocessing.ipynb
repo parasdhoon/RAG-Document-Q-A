{
 "cells": [
  {
   "cell_type": "code",
   "execution_count": 1,
   "metadata": {},
   "outputs": [],
   "source": [
    "from langchain_community.document_loaders import PyPDFDirectoryLoader"
   ]
  },
  {
   "cell_type": "code",
   "execution_count": 2,
   "metadata": {},
   "outputs": [
    {
     "data": {
      "text/plain": [
       "<langchain_community.document_loaders.pdf.PyPDFDirectoryLoader at 0x17c79f14520>"
      ]
     },
     "execution_count": 2,
     "metadata": {},
     "output_type": "execute_result"
    }
   ],
   "source": [
    "dir_path = \"../data/raw\"\n",
    "loader = PyPDFDirectoryLoader(\n",
    "    path=dir_path,\n",
    ")\n",
    "loader"
   ]
  },
  {
   "cell_type": "code",
   "execution_count": 4,
   "metadata": {},
   "outputs": [
    {
     "data": {
      "text/plain": [
       "[Document(metadata={'source': '..\\\\data\\\\raw\\\\SQA Vs Software Testing.pdf', 'page': 0}, page_content='DIFFERENCE BETWEEN SOFTWARE  \\nQUALITY ASSURANCE  \\n&  \\nSOFTWARE TESTING\\nDr Lokesh Sharma'),\n",
       " Document(metadata={'source': '..\\\\data\\\\raw\\\\SQA Vs Software Testing.pdf', 'page': 1}, page_content=''),\n",
       " Document(metadata={'source': '..\\\\data\\\\raw\\\\SQA Vs Software Testing.pdf', 'page': 2}, page_content=''),\n",
       " Document(metadata={'source': '..\\\\data\\\\raw\\\\SQA Vs Software Testing.pdf', 'page': 3}, page_content=''),\n",
       " Document(metadata={'source': '..\\\\data\\\\raw\\\\SQA Vs Software Testing.pdf', 'page': 4}, page_content=''),\n",
       " Document(metadata={'source': '..\\\\data\\\\raw\\\\SQA Vs Software Testing.pdf', 'page': 5}, page_content=''),\n",
       " Document(metadata={'source': '..\\\\data\\\\raw\\\\SQA Vs Software Testing.pdf', 'page': 6}, page_content=''),\n",
       " Document(metadata={'source': '..\\\\data\\\\raw\\\\SQA Vs Software Testing.pdf', 'page': 7}, page_content=''),\n",
       " Document(metadata={'source': '..\\\\data\\\\raw\\\\SQA Vs Software Testing.pdf', 'page': 8}, page_content=''),\n",
       " Document(metadata={'source': '..\\\\data\\\\raw\\\\SQA Vs Software Testing.pdf', 'page': 9}, page_content='')]"
      ]
     },
     "execution_count": 4,
     "metadata": {},
     "output_type": "execute_result"
    }
   ],
   "source": [
    "docs = loader.load()\n",
    "docs"
   ]
  },
  {
   "cell_type": "code",
   "execution_count": 27,
   "metadata": {},
   "outputs": [
    {
     "data": {
      "text/plain": [
       "Document(metadata={'source': '..\\\\data\\\\raw\\\\temp.pdf', 'page': 0}, page_content='Machine Learning Types Explained\\nMachine learning (ML) is a branch of artiﬁcial intelligence (AI) that focuses on developing\\nalgorithms and models that allow computers to learn from and make predictions or\\ndecisions based on data without being explicitly programmed to perform speciﬁc tasks. It’s\\nlike teaching a computer to learn from experience, similar to how humans do, by recognizing\\npatterns in data and improving its performance over time.\\nTypes of Machine Learning\\nMachine learning can be broadly categorized into three main types:\\n1. Supervised Learning:\\nDeﬁnition: In supervised learning, the algorithm is trained on a labeled dataset,\\nwhich means that each training example is paired with an output label. The model\\nlearns to make predictions or decisions by ﬁnding patterns in the input-output pairs.\\nExample: Predicting house prices based on features like location, size, and number\\nof rooms, where the model is trained on historical data of houses with known prices.')"
      ]
     },
     "execution_count": 27,
     "metadata": {},
     "output_type": "execute_result"
    }
   ],
   "source": [
    "from langchain_text_splitters import RecursiveCharacterTextSplitter\n",
    "text_splitter = RecursiveCharacterTextSplitter(chunk_size=1000, chunk_overlap=100)\n",
    "final_docs = text_splitter.split_documents(docs)\n",
    "final_docs[0]"
   ]
  },
  {
   "cell_type": "code",
   "execution_count": 28,
   "metadata": {},
   "outputs": [],
   "source": [
    "import os\n",
    "from dotenv import load_dotenv\n",
    "\n",
    "load_dotenv()\n",
    "embeddings_api_key = os.getenv(\"NVIDIA_EMBEDDINGS_API_KEY\")"
   ]
  },
  {
   "cell_type": "code",
   "execution_count": 29,
   "metadata": {},
   "outputs": [
    {
     "data": {
      "text/plain": [
       "NVIDIAEmbeddings(base_url='https://integrate.api.nvidia.com/v1', model='nvidia/llama-3.2-nv-embedqa-1b-v2', truncate='NONE', max_batch_size=50)"
      ]
     },
     "execution_count": 29,
     "metadata": {},
     "output_type": "execute_result"
    }
   ],
   "source": [
    "from langchain_nvidia_ai_endpoints import NVIDIAEmbeddings\n",
    "embeddings = NVIDIAEmbeddings(\n",
    "    model=\"nvidia/llama-3.2-nv-embedqa-1b-v2\",\n",
    "    api_key=embeddings_api_key\n",
    ")\n",
    "embeddings"
   ]
  },
  {
   "cell_type": "code",
   "execution_count": 30,
   "metadata": {},
   "outputs": [
    {
     "data": {
      "text/plain": [
       "<langchain_chroma.vectorstores.Chroma at 0x1aec7b1a9b0>"
      ]
     },
     "execution_count": 30,
     "metadata": {},
     "output_type": "execute_result"
    }
   ],
   "source": [
    "from langchain_chroma import Chroma\n",
    "vectorstore = Chroma(\n",
    "    collection_name=\"document_indexes\",\n",
    "    embedding_function=embeddings,\n",
    "    persist_directory=\"../data/chroma_indexes\"\n",
    ")\n",
    "vectorstore"
   ]
  },
  {
   "cell_type": "code",
   "execution_count": 31,
   "metadata": {},
   "outputs": [
    {
     "data": {
      "text/plain": [
       "['52842999-f110-4335-a682-14df5b9b7771',\n",
       " '05badc8e-a93f-4e64-9586-b07e0c5771e7',\n",
       " '2be19438-b7ed-420c-9dd3-2da20a5243c9',\n",
       " 'e3c0381f-ca96-4558-a6dc-4f296141695b',\n",
       " '5fd010f9-f251-4b59-bbfa-0cb916b14184',\n",
       " '9df3d872-9ca5-45ca-989c-79b7320641e2',\n",
       " 'd9bc890e-cdba-4db3-b429-e18ccd216f06',\n",
       " 'bd3df758-399e-48c7-9ed5-7efb6ee42d81',\n",
       " '78f26379-6cab-43d4-a2e7-c4f1b2987f4f',\n",
       " 'fb995ec6-c47f-481a-b9e6-ca560a6b39d5',\n",
       " 'af3dd376-7ca1-43a0-a6ab-b434c00580dd',\n",
       " '603dbcd9-81e2-4667-a7c0-855239a5a008',\n",
       " 'e35a0690-13a7-4b53-bb89-bd2734dd41aa',\n",
       " 'a16fc476-7494-4823-b215-220c11b4a704',\n",
       " '452ca326-c9a2-46de-8509-da0905947d17',\n",
       " '3a7e6053-eeb1-4fb3-94df-0c79ad15fb2b',\n",
       " 'f26dc1bc-ec23-4ac7-8b52-faeba487375e',\n",
       " '7349e54b-666c-4234-869d-1dce3de5b83b',\n",
       " '038b1e4f-5671-44d0-98ea-c231e0864e23',\n",
       " '55285823-23dc-4237-b6f9-39f2b2880919',\n",
       " '5b33c2f8-0033-4e2a-91aa-f102e5c28237',\n",
       " 'bf0bd49a-3cb4-4fd8-be13-68c08fed94e4',\n",
       " '2bf69ecb-0438-4246-8822-509635558233',\n",
       " 'c2c6953b-4f1c-483a-a435-4c84ebff0662',\n",
       " '2796c008-b723-4687-9061-c907bab3c073',\n",
       " '5a6c8d55-49e1-4785-a3f0-3c3e11a5bd6e',\n",
       " '3fab569d-f63e-4d21-94a5-0cc310b74b95',\n",
       " 'e5035a60-7a23-4629-a3a1-48737766d33e',\n",
       " 'c6bcbe23-cec8-4c6b-bfd4-bf3fb0d351b1',\n",
       " '71aa9b1c-90b2-473c-827a-0b7fa374cacc',\n",
       " '547f8689-1225-49d4-9eaf-ef88be745733',\n",
       " '564cf055-d90e-4ab4-b7ea-730d30473be2',\n",
       " '25444f25-5e6c-4847-96e4-b99e66b533bd',\n",
       " '65d8056c-34ed-42a2-aeea-9fef739ba8a8',\n",
       " 'e3b70a3a-057d-4de4-b6eb-399d01c42e4b',\n",
       " '8d94ef09-c129-4e72-980b-9640991b21ed',\n",
       " '07d7d6b6-6aab-4a1d-b851-0bdf998a976b',\n",
       " 'dde56c3e-6c12-400a-a90b-c8646e9102c4',\n",
       " '09909ed7-01d6-431c-a36d-b07284c078f8',\n",
       " 'cc340811-e764-49ae-9dfe-6a6dddb4249f',\n",
       " 'c56479dc-9d79-4d82-abe8-2c18b078e2b2',\n",
       " '104e1d86-38a8-42b9-9cbe-3c0d89d82bc6',\n",
       " '50ce9f08-721d-4839-ac19-4ccc784e9f89',\n",
       " 'c915006f-58d6-4d12-951a-cb545c38dd11',\n",
       " '37efcc53-7bfe-42dc-a186-a91ece4814ed',\n",
       " '6307f587-49f1-4dca-8bdb-8c4849c76569',\n",
       " '32d3e098-6413-444c-9542-355727a71b13',\n",
       " '70ee77ee-3651-4e6e-9640-b7d9ead3e589',\n",
       " '5b275c02-561c-4bbf-8d85-6d82e3130279',\n",
       " '7daa6cae-324a-4761-842d-b65b233db8e5',\n",
       " 'f6a580eb-537a-444a-94dd-addb0734e78f',\n",
       " '9531f04f-7c4f-4f92-bc43-74d0c8bd4091',\n",
       " 'c16f6805-3cc8-4512-92cf-6eccd37534bd',\n",
       " '2c5199a8-9bf6-44a1-8655-f9fb0a8ef096',\n",
       " '88abddc8-0e70-4b91-94dd-217eea00480f',\n",
       " 'c44c4592-7ec6-447d-9bd4-732c009e63fe',\n",
       " '9b4edb70-e7fb-4cb1-8766-b26af4b4ff72',\n",
       " '4cb49091-9d6c-4403-b2e4-d4a9ca2384bc',\n",
       " '916e7d4b-d900-44de-b192-e578e97cd097',\n",
       " '843334e3-54c6-422f-bdac-6c7cfd5d5ee9',\n",
       " '0fb13367-7212-4bfa-88de-20bd371b4dc4',\n",
       " 'c1fe87ce-bbfc-4580-a0ca-7178fe2647d9',\n",
       " '6847f425-d5d8-4820-95c4-a9572e61187b',\n",
       " '65eaabb0-9925-47fd-8d6d-03eabbb9178d',\n",
       " 'cc0f9656-2fcd-4caf-8e09-b99339508f42',\n",
       " '1b2c5ef4-c38c-4fe0-b164-e44c95bf5e4b',\n",
       " '41d716dc-2cab-4697-9055-bae2250cb4ef',\n",
       " '0c38587c-a446-44b9-9d8b-7d7f11418e47',\n",
       " 'b2a8d899-5ea4-4f09-9618-62bf00decf7c',\n",
       " '6646d0bf-c2ce-49c4-b3d5-83146437a5f3',\n",
       " '2b4adf1a-315e-49a0-8b1a-4d6032ff9821',\n",
       " 'b0777fdc-9f31-427a-8ed8-d5c480a31963',\n",
       " '1d4a27f8-3c75-458d-94f5-67e459dd0edc',\n",
       " 'bf930e7d-9f46-4e2a-a5f8-0592c1ed8ff2',\n",
       " '8ee4ce1f-14f4-4dcf-ab4e-a6d595a8e77f',\n",
       " '5cd02e03-3980-48e4-8ce2-91e950d6d39b',\n",
       " 'c42876af-91e2-4dc9-b9b9-0435e86b0b2e',\n",
       " '90f6a28d-f99d-46ad-a7e7-7555c3076dab',\n",
       " 'c59523e0-25ae-4980-b1f5-a4d3afbacbf1',\n",
       " '79301fba-9f74-4d64-bc52-a6bc1aab9988']"
      ]
     },
     "execution_count": 31,
     "metadata": {},
     "output_type": "execute_result"
    }
   ],
   "source": [
    "vectorstore.add_documents(final_docs)"
   ]
  },
  {
   "cell_type": "code",
   "execution_count": 32,
   "metadata": {},
   "outputs": [
    {
     "data": {
      "text/plain": [
       "[Document(id='d9bc890e-cdba-4db3-b429-e18ccd216f06', metadata={'page': 3, 'source': '..\\\\data\\\\raw\\\\temp.pdf'}, page_content='2. The Gradient Descent Algorithm\\nStep-by-Step Process:\\n1. Initialize Parameters: Start with random values for the parameters .\\n2. Compute the Gradient: Calculate the gradient of the cost function with respect to\\neach parameter. The gradient indicates the direction and rate of the steepest ascent.\\n3. Update Parameters: Adjust the parameters in the opposite direction of the gradient\\nto move towards the minimum. The update rule for each parameter  is:\\nWhere  is the learning rate, which controls the step size.\\n4. Repeat: Iterate the process until convergence, i.e., when the changes in the cost\\nfunction are below a certain threshold.\\nLearning Rate ( ): A crucial hyperparameter that determines the size of the steps the\\nalgorithm takes towards the minimum. If  is too small, the algorithm will converge\\nslowly. If  is too large, the algorithm may overshoot the minimum or even diverge.\\n3. Types of Gradient Descent\\nBatch Gradient Descent:'),\n",
       " Document(id='a16fc476-7494-4823-b215-220c11b4a704', metadata={'page': 6, 'source': '..\\\\data\\\\raw\\\\temp.pdf'}, page_content='Diﬀerences Between Gradient Ascent and Gradient Descent\\n1. Objective:\\nGradient Descent: Used to minimize a cost function, commonly used in linear\\nregression and other algorithms where the objective is to ﬁnd the parameters that\\nminimize the prediction error.\\nGradient Ascent: Used to maximize a function, typically used in scenarios like\\nlogistic regression where the goal is to maximize the likelihood of the data given the\\nmodel parameters.\\n2. Update Rule:\\nGradient Descent: Parameters are updated by moving in the direction opposite to\\nthe gradient of the cost function.\\nL(β)=  h  (x ) 1−h  (x )\\ni=1\\n∏\\nm\\n( β (i) )\\ny(i)\\n( β (i) )\\n1−y(i)\\nβ\\nβ  ,β  ,…0 1\\nβ  \\nj\\nβ  :=j β  +j α  \\n∂β  \\nj\\n∂J(β)\\nα\\nα\\n7/39'),\n",
       " Document(id='452ca326-c9a2-46de-8509-da0905947d17', metadata={'page': 7, 'source': '..\\\\data\\\\raw\\\\temp.pdf'}, page_content='Gradient Ascent: Parameters are updated by moving in the same direction as the\\ngradient of the likelihood function.\\n3. Application:\\nGradient Descent: Commonly used in regression problems (linear regression,\\nneural networks) and clustering algorithms (like K-means).\\nGradient Ascent: Typically used in classiﬁcation problems like logistic regression,\\nwhere the focus is on maximizing the likelihood function.\\nSummary\\nLogistic Regression is used for binary classiﬁcation and predicts the probability that an\\ninput belongs to a particular class using the sigmoid function.\\nGradient Ascent is used to maximize a function, such as the likelihood function in\\nlogistic regression, and diﬀers from gradient descent, which is used to minimize a cost\\nfunction.\\nThe key diﬀerence between gradient ascent and gradient descent lies in the direction in\\nwhich the parameters are updated: ascent moves towards the maximum, while descent\\nmoves towards the minimum.\\nβ  :=j β  −j α  \\n∂β  \\nj\\n∂J(β)\\nβ  :=j β  +j α  \\n∂β'),\n",
       " Document(id='8ee4ce1f-14f4-4dcf-ab4e-a6d595a8e77f', metadata={'page': 36, 'source': '..\\\\data\\\\raw\\\\temp.pdf'}, page_content='Batch Gradient Descent: Uses the entire dataset to compute the gradient. It\\nprovides stable updates but can be slow for large datasets.\\nStochastic Gradient Descent (SGD): Updates parameters using one training\\nexample at a time. This leads to faster updates but can introduce high variance in\\nthe updates.\\nMini-Batch Gradient Descent: Combines the advantages of batch and stochastic\\nmethods by using a small random subset of the data for each update. It balances\\nspeed and stability.\\n2.2. Momentum\\nConcept: Momentum helps accelerate gradient descent in the relevant direction while\\ndampening oscillations. It accumulates the gradient of past iterations to create a velocity\\nvector.\\nUpdate Rule:\\nwhere  is the velocity, and  (typically between 0 and 1) controls the momentum term.\\nCharacteristics:\\nHelps speed up convergence, particularly in scenarios with high curvature, small but\\nconsistent gradients, or noisy gradients.\\nCan reduce the number of oscillations in the updates.')]"
      ]
     },
     "execution_count": 32,
     "metadata": {},
     "output_type": "execute_result"
    }
   ],
   "source": [
    "vectorstore.similarity_search(\"What is Gradient Descent\")"
   ]
  }
 ],
 "metadata": {
  "kernelspec": {
   "display_name": "venv",
   "language": "python",
   "name": "python3"
  },
  "language_info": {
   "codemirror_mode": {
    "name": "ipython",
    "version": 3
   },
   "file_extension": ".py",
   "mimetype": "text/x-python",
   "name": "python",
   "nbconvert_exporter": "python",
   "pygments_lexer": "ipython3",
   "version": "3.10.0"
  }
 },
 "nbformat": 4,
 "nbformat_minor": 2
}
